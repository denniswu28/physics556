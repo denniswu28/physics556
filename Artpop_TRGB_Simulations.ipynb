{
 "cells": [
  {
   "cell_type": "code",
   "execution_count": 3,
   "id": "8df6ec3c",
   "metadata": {},
   "outputs": [],
   "source": [
    "import numpy as np\n",
    "import matplotlib.pyplot as plt\n",
    "from astropy import units as u\n",
    "import artpop"
   ]
  },
  {
   "cell_type": "code",
   "execution_count": 4,
   "id": "63e9765c",
   "metadata": {},
   "outputs": [],
   "source": [
    "def sim_populations(metallicity, age_gyr):\n",
    "    \n",
    "    # Simulate population with ArtPop\n",
    "    \n",
    "    #######################################\n",
    "    \n",
    "    rng = np.random.RandomState(100) # random seed \n",
    "    band1 = 'ACS_WFC_F606W' \n",
    "    band2 = 'ACS_WFC_F814W'\n",
    "    distance = 10 * u.pc # So that mags are in absolute magnitudes\n",
    "    mass = (8 ** (9)) * u.Msun\n",
    "    log_age = np.log10(float(age_gyr) * 10**(9))   \n",
    "    \n",
    "    #######################################    \n",
    "    \n",
    "    ssp = artpop.MISTSSP(\n",
    "                         log_age = log_age,         # log of age in years\n",
    "                         feh = metallicity,         # metallicity [Fe/H]\n",
    "                         phot_system = 'HST_ACSWF', # photometric system(s)\n",
    "                         total_mass = mass,         # stars\n",
    "                         distance = distance,       # distance to system\n",
    "                         mag_limit = -2,\n",
    "                         mag_limit_band = 'ACS_WFC_F814W',\n",
    "                         random_state = rng,         # random state for reproducibility\n",
    "                         ab_or_vega = 'vega'\n",
    "    )\n",
    "    \n",
    "    #######################################\n",
    "\n",
    "    # Separate stellar sequences for plotting and isolating RGB to get \"true\" TRGB\n",
    "    MS      = ssp.select_phase('MS')\n",
    "    RGB     = ssp.select_phase('RGB')\n",
    "    CHeB    = ssp.select_phase('CHeB')\n",
    "    EAGB    = ssp.select_phase('EAGB')\n",
    "    TPAGB   = ssp.select_phase('TPAGB')\n",
    "    postAGB = ssp.select_phase('postAGB')\n",
    "    \n",
    "    # Turn into magnitudes\n",
    "    mag1 = ssp.star_mags(band1) # F606W\n",
    "    mag2 = ssp.star_mags(band2) # F814W\n",
    "    \n",
    "    #######################################\n",
    "    \n",
    "    # Get \"true\" TRGB as the brightest RGB star\n",
    "    TRGB_true = np.min(mag2[RGB])\n",
    "    \n",
    "    # Get \"true\" contrast ratio based on the \"true\" TRGB\n",
    "    idx_RGB = np.where((mag2 > TRGB_true) & (mag2 < TRGB_true + 0.5))[0] \n",
    "    idx_AGB = np.where((mag2 < TRGB_true) & (mag2 > TRGB_true - 0.5))[0] \n",
    "    R_true = len(idx_RGB) / max(len(idx_AGB), 1)\n",
    "\n",
    "    #######################################\n",
    "    \n",
    "    return mag1, mag2, TRGB_true, R_true\n"
   ]
  },
  {
   "cell_type": "code",
   "execution_count": 5,
   "id": "bb23c898",
   "metadata": {},
   "outputs": [
    {
     "name": "stdout",
     "output_type": "stream",
     "text": [
      "INFO: Fetching MIST synthetic photometry grid for HST_ACSWF.\n",
      "INFO: Extracting grid from MIST_v1.2_vvcrit0.4_HST_ACSWF.txz.\n"
     ]
    },
    {
     "data": {
      "text/plain": [
       "(array([-1.27606503, -2.87880128, -3.59226949, ..., -1.34544094,\n",
       "        -1.5070526 , -2.07888673]),\n",
       " array([-2.06362661, -3.86366546, -4.85874947, ..., -2.13999523,\n",
       "        -2.31785398, -2.93149192]),\n",
       " -3.8818614806295324,\n",
       " 7.632)"
      ]
     },
     "execution_count": 5,
     "metadata": {},
     "output_type": "execute_result"
    }
   ],
   "source": [
    "sim_populations(-1, 1.288)"
   ]
  }
 ],
 "metadata": {
  "kernelspec": {
   "display_name": "Python 3 (ipykernel)",
   "language": "python",
   "name": "python3"
  },
  "language_info": {
   "codemirror_mode": {
    "name": "ipython",
    "version": 3
   },
   "file_extension": ".py",
   "mimetype": "text/x-python",
   "name": "python",
   "nbconvert_exporter": "python",
   "pygments_lexer": "ipython3",
   "version": "3.10.12"
  }
 },
 "nbformat": 4,
 "nbformat_minor": 5
}
